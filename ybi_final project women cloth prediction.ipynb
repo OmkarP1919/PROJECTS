{
 "cells": [
  {
   "cell_type": "markdown",
   "id": "4be4bef7",
   "metadata": {
    "papermill": {
     "duration": 0.015098,
     "end_time": "2024-04-04T06:58:44.119616",
     "exception": false,
     "start_time": "2024-04-04T06:58:44.104518",
     "status": "completed"
    },
    "tags": []
   },
   "source": [
    "# Women Cloth Reviews Prediction\n",
    "---\n",
    "Multinomial Naïve Bayes algorithm is a probabilistic learning method that is mostly used in Natural Language Processing. It is also suitable for text classification with discrete feature. In this project it will be used to build a women cloth review prediction model.\n",
    "\n",
    "Data Source: [YBIFoundation/ProjectHub-MachineLearning Women Clothing Commerce Review dataset](https://raw.githubusercontent.com/YBIFoundation/ProjectHub-MachineLearning/main/Women%20Clothing%20E-Commerce%20Review.csv)"
   ]
  },
  {
   "cell_type": "markdown",
   "id": "663d0728",
   "metadata": {
    "papermill": {
     "duration": 0.015102,
     "end_time": "2024-04-04T06:58:44.149079",
     "exception": false,
     "start_time": "2024-04-04T06:58:44.133977",
     "status": "completed"
    },
    "tags": []
   },
   "source": [
    "### Importing Libraries"
   ]
  },
  {
   "cell_type": "code",
   "execution_count": 1,
   "id": "4c81a57d",
   "metadata": {
    "_kg_hide-input": false,
    "_kg_hide-output": true,
    "execution": {
     "iopub.execute_input": "2024-04-04T06:58:44.180581Z",
     "iopub.status.busy": "2024-04-04T06:58:44.179755Z",
     "iopub.status.idle": "2024-04-04T06:58:45.954517Z",
     "shell.execute_reply": "2024-04-04T06:58:45.953069Z"
    },
    "papermill": {
     "duration": 1.794138,
     "end_time": "2024-04-04T06:58:45.957776",
     "exception": false,
     "start_time": "2024-04-04T06:58:44.163638",
     "status": "completed"
    },
    "tags": []
   },
   "outputs": [
    {
     "name": "stderr",
     "output_type": "stream",
     "text": [
      "/opt/conda/lib/python3.10/site-packages/scipy/__init__.py:146: UserWarning: A NumPy version >=1.16.5 and <1.23.0 is required for this version of SciPy (detected version 1.23.5\n",
      "  warnings.warn(f\"A NumPy version >={np_minversion} and <{np_maxversion}\"\n"
     ]
    }
   ],
   "source": [
    "import pandas as pd\n",
    "import numpy as np\n",
    "import matplotlib.pyplot as plt\n",
    "import seaborn as sns"
   ]
  },
  {
   "cell_type": "markdown",
   "id": "3016d582",
   "metadata": {
    "papermill": {
     "duration": 0.014054,
     "end_time": "2024-04-04T06:58:45.986969",
     "exception": false,
     "start_time": "2024-04-04T06:58:45.972915",
     "status": "completed"
    },
    "tags": []
   },
   "source": [
    "### Importing Dataset"
   ]
  },
  {
   "cell_type": "code",
   "execution_count": 2,
   "id": "9560e6ec",
   "metadata": {
    "execution": {
     "iopub.execute_input": "2024-04-04T06:58:46.017838Z",
     "iopub.status.busy": "2024-04-04T06:58:46.017338Z",
     "iopub.status.idle": "2024-04-04T06:58:46.788881Z",
     "shell.execute_reply": "2024-04-04T06:58:46.787489Z"
    },
    "papermill": {
     "duration": 0.790646,
     "end_time": "2024-04-04T06:58:46.792088",
     "exception": false,
     "start_time": "2024-04-04T06:58:46.001442",
     "status": "completed"
    },
    "tags": []
   },
   "outputs": [],
   "source": [
    "df = pd.read_csv(\"https://raw.githubusercontent.com/YBIFoundation/ProjectHub-MachineLearning/main/Women%20Clothing%20E-Commerce%20Review.csv\")"
   ]
  },
  {
   "cell_type": "markdown",
   "id": "9e6996b6",
   "metadata": {
    "papermill": {
     "duration": 0.014146,
     "end_time": "2024-04-04T06:58:46.820825",
     "exception": false,
     "start_time": "2024-04-04T06:58:46.806679",
     "status": "completed"
    },
    "tags": []
   },
   "source": [
    "### Data visualization\n",
    "\n",
    "Samples of the data is visualized to better understand how it is structured."
   ]
  },
  {
   "cell_type": "code",
   "execution_count": 3,
   "id": "6e428bd5",
   "metadata": {
    "execution": {
     "iopub.execute_input": "2024-04-04T06:58:46.851614Z",
     "iopub.status.busy": "2024-04-04T06:58:46.851152Z",
     "iopub.status.idle": "2024-04-04T06:58:46.878714Z",
     "shell.execute_reply": "2024-04-04T06:58:46.877499Z"
    },
    "papermill": {
     "duration": 0.046636,
     "end_time": "2024-04-04T06:58:46.881721",
     "exception": false,
     "start_time": "2024-04-04T06:58:46.835085",
     "status": "completed"
    },
    "tags": []
   },
   "outputs": [
    {
     "data": {
      "text/html": [
       "<div>\n",
       "<style scoped>\n",
       "    .dataframe tbody tr th:only-of-type {\n",
       "        vertical-align: middle;\n",
       "    }\n",
       "\n",
       "    .dataframe tbody tr th {\n",
       "        vertical-align: top;\n",
       "    }\n",
       "\n",
       "    .dataframe thead th {\n",
       "        text-align: right;\n",
       "    }\n",
       "</style>\n",
       "<table border=\"1\" class=\"dataframe\">\n",
       "  <thead>\n",
       "    <tr style=\"text-align: right;\">\n",
       "      <th></th>\n",
       "      <th>Clothing ID</th>\n",
       "      <th>Age</th>\n",
       "      <th>Title</th>\n",
       "      <th>Review</th>\n",
       "      <th>Rating</th>\n",
       "      <th>Recommended</th>\n",
       "      <th>Positive Feedback</th>\n",
       "      <th>Division</th>\n",
       "      <th>Department</th>\n",
       "      <th>Category</th>\n",
       "    </tr>\n",
       "  </thead>\n",
       "  <tbody>\n",
       "    <tr>\n",
       "      <th>0</th>\n",
       "      <td>767</td>\n",
       "      <td>33</td>\n",
       "      <td>NaN</td>\n",
       "      <td>Absolutely wonderful - silky and sexy and comf...</td>\n",
       "      <td>4</td>\n",
       "      <td>1</td>\n",
       "      <td>0</td>\n",
       "      <td>Initmates</td>\n",
       "      <td>Intimate</td>\n",
       "      <td>Intimates</td>\n",
       "    </tr>\n",
       "    <tr>\n",
       "      <th>1</th>\n",
       "      <td>1080</td>\n",
       "      <td>34</td>\n",
       "      <td>NaN</td>\n",
       "      <td>Love this dress!  it's sooo pretty.  i happene...</td>\n",
       "      <td>5</td>\n",
       "      <td>1</td>\n",
       "      <td>4</td>\n",
       "      <td>General</td>\n",
       "      <td>Dresses</td>\n",
       "      <td>Dresses</td>\n",
       "    </tr>\n",
       "    <tr>\n",
       "      <th>2</th>\n",
       "      <td>1077</td>\n",
       "      <td>60</td>\n",
       "      <td>Some major design flaws</td>\n",
       "      <td>I had such high hopes for this dress and reall...</td>\n",
       "      <td>3</td>\n",
       "      <td>0</td>\n",
       "      <td>0</td>\n",
       "      <td>General</td>\n",
       "      <td>Dresses</td>\n",
       "      <td>Dresses</td>\n",
       "    </tr>\n",
       "    <tr>\n",
       "      <th>3</th>\n",
       "      <td>1049</td>\n",
       "      <td>50</td>\n",
       "      <td>My favorite buy!</td>\n",
       "      <td>I love, love, love this jumpsuit. it's fun, fl...</td>\n",
       "      <td>5</td>\n",
       "      <td>1</td>\n",
       "      <td>0</td>\n",
       "      <td>General Petite</td>\n",
       "      <td>Bottoms</td>\n",
       "      <td>Pants</td>\n",
       "    </tr>\n",
       "    <tr>\n",
       "      <th>4</th>\n",
       "      <td>847</td>\n",
       "      <td>47</td>\n",
       "      <td>Flattering shirt</td>\n",
       "      <td>This shirt is very flattering to all due to th...</td>\n",
       "      <td>5</td>\n",
       "      <td>1</td>\n",
       "      <td>6</td>\n",
       "      <td>General</td>\n",
       "      <td>Tops</td>\n",
       "      <td>Blouses</td>\n",
       "    </tr>\n",
       "  </tbody>\n",
       "</table>\n",
       "</div>"
      ],
      "text/plain": [
       "   Clothing ID  Age                    Title  \\\n",
       "0          767   33                      NaN   \n",
       "1         1080   34                      NaN   \n",
       "2         1077   60  Some major design flaws   \n",
       "3         1049   50         My favorite buy!   \n",
       "4          847   47         Flattering shirt   \n",
       "\n",
       "                                              Review  Rating  Recommended  \\\n",
       "0  Absolutely wonderful - silky and sexy and comf...       4            1   \n",
       "1  Love this dress!  it's sooo pretty.  i happene...       5            1   \n",
       "2  I had such high hopes for this dress and reall...       3            0   \n",
       "3  I love, love, love this jumpsuit. it's fun, fl...       5            1   \n",
       "4  This shirt is very flattering to all due to th...       5            1   \n",
       "\n",
       "   Positive Feedback        Division Department   Category  \n",
       "0                  0       Initmates   Intimate  Intimates  \n",
       "1                  4         General    Dresses    Dresses  \n",
       "2                  0         General    Dresses    Dresses  \n",
       "3                  0  General Petite    Bottoms      Pants  \n",
       "4                  6         General       Tops    Blouses  "
      ]
     },
     "execution_count": 3,
     "metadata": {},
     "output_type": "execute_result"
    }
   ],
   "source": [
    "df.head()"
   ]
  },
  {
   "cell_type": "code",
   "execution_count": 4,
   "id": "f160a369",
   "metadata": {
    "execution": {
     "iopub.execute_input": "2024-04-04T06:58:46.914165Z",
     "iopub.status.busy": "2024-04-04T06:58:46.913252Z",
     "iopub.status.idle": "2024-04-04T06:58:46.983321Z",
     "shell.execute_reply": "2024-04-04T06:58:46.982110Z"
    },
    "papermill": {
     "duration": 0.089069,
     "end_time": "2024-04-04T06:58:46.986108",
     "exception": false,
     "start_time": "2024-04-04T06:58:46.897039",
     "status": "completed"
    },
    "tags": []
   },
   "outputs": [
    {
     "name": "stdout",
     "output_type": "stream",
     "text": [
      "<class 'pandas.core.frame.DataFrame'>\n",
      "RangeIndex: 23486 entries, 0 to 23485\n",
      "Data columns (total 10 columns):\n",
      " #   Column             Non-Null Count  Dtype \n",
      "---  ------             --------------  ----- \n",
      " 0   Clothing ID        23486 non-null  int64 \n",
      " 1   Age                23486 non-null  int64 \n",
      " 2   Title              19676 non-null  object\n",
      " 3   Review             22641 non-null  object\n",
      " 4   Rating             23486 non-null  int64 \n",
      " 5   Recommended        23486 non-null  int64 \n",
      " 6   Positive Feedback  23486 non-null  int64 \n",
      " 7   Division           23472 non-null  object\n",
      " 8   Department         23472 non-null  object\n",
      " 9   Category           23472 non-null  object\n",
      "dtypes: int64(5), object(5)\n",
      "memory usage: 1.8+ MB\n"
     ]
    }
   ],
   "source": [
    "df.info()"
   ]
  },
  {
   "cell_type": "code",
   "execution_count": 5,
   "id": "97901bb1",
   "metadata": {
    "execution": {
     "iopub.execute_input": "2024-04-04T06:58:47.021235Z",
     "iopub.status.busy": "2024-04-04T06:58:47.020469Z",
     "iopub.status.idle": "2024-04-04T06:58:47.027977Z",
     "shell.execute_reply": "2024-04-04T06:58:47.027044Z"
    },
    "papermill": {
     "duration": 0.028175,
     "end_time": "2024-04-04T06:58:47.030100",
     "exception": false,
     "start_time": "2024-04-04T06:58:47.001925",
     "status": "completed"
    },
    "tags": []
   },
   "outputs": [
    {
     "data": {
      "text/plain": [
       "(23486, 10)"
      ]
     },
     "execution_count": 5,
     "metadata": {},
     "output_type": "execute_result"
    }
   ],
   "source": [
    "df.shape"
   ]
  },
  {
   "cell_type": "markdown",
   "id": "b375834e",
   "metadata": {
    "papermill": {
     "duration": 0.014752,
     "end_time": "2024-04-04T06:58:47.059974",
     "exception": false,
     "start_time": "2024-04-04T06:58:47.045222",
     "status": "completed"
    },
    "tags": []
   },
   "source": [
    "### Data preprocessing\n",
    "\n",
    "Calling `isna()` method along with the `sum()` method on dataframe `df` to find the Review columns with no review text for further processing."
   ]
  },
  {
   "cell_type": "code",
   "execution_count": 6,
   "id": "bf8f0264",
   "metadata": {
    "execution": {
     "iopub.execute_input": "2024-04-04T06:58:47.096086Z",
     "iopub.status.busy": "2024-04-04T06:58:47.095235Z",
     "iopub.status.idle": "2024-04-04T06:58:47.144076Z",
     "shell.execute_reply": "2024-04-04T06:58:47.142866Z"
    },
    "papermill": {
     "duration": 0.068746,
     "end_time": "2024-04-04T06:58:47.146879",
     "exception": false,
     "start_time": "2024-04-04T06:58:47.078133",
     "status": "completed"
    },
    "tags": []
   },
   "outputs": [
    {
     "data": {
      "text/plain": [
       "Clothing ID             0\n",
       "Age                     0\n",
       "Title                3810\n",
       "Review                845\n",
       "Rating                  0\n",
       "Recommended             0\n",
       "Positive Feedback       0\n",
       "Division               14\n",
       "Department             14\n",
       "Category               14\n",
       "dtype: int64"
      ]
     },
     "execution_count": 6,
     "metadata": {},
     "output_type": "execute_result"
    }
   ],
   "source": [
    "df.isna().sum()"
   ]
  },
  {
   "cell_type": "markdown",
   "id": "436d332e",
   "metadata": {
    "papermill": {
     "duration": 0.01571,
     "end_time": "2024-04-04T06:58:47.178213",
     "exception": false,
     "start_time": "2024-04-04T06:58:47.162503",
     "status": "completed"
    },
    "tags": []
   },
   "source": [
    "Filling missing values in the Review column with the value `No review is given`."
   ]
  },
  {
   "cell_type": "code",
   "execution_count": 7,
   "id": "de1df6b1",
   "metadata": {
    "execution": {
     "iopub.execute_input": "2024-04-04T06:58:47.212429Z",
     "iopub.status.busy": "2024-04-04T06:58:47.211992Z",
     "iopub.status.idle": "2024-04-04T06:58:47.276538Z",
     "shell.execute_reply": "2024-04-04T06:58:47.275126Z"
    },
    "papermill": {
     "duration": 0.084927,
     "end_time": "2024-04-04T06:58:47.279406",
     "exception": false,
     "start_time": "2024-04-04T06:58:47.194479",
     "status": "completed"
    },
    "tags": []
   },
   "outputs": [
    {
     "data": {
      "text/plain": [
       "Clothing ID             0\n",
       "Age                     0\n",
       "Title                3810\n",
       "Review                  0\n",
       "Rating                  0\n",
       "Recommended             0\n",
       "Positive Feedback       0\n",
       "Division               14\n",
       "Department             14\n",
       "Category               14\n",
       "dtype: int64"
      ]
     },
     "execution_count": 7,
     "metadata": {},
     "output_type": "execute_result"
    }
   ],
   "source": [
    "df[df['Review']==\"\"] = np.NaN\n",
    "df['Review'].fillna(\"No review is given\", inplace=True)\n",
    "df.isna().sum()"
   ]
  },
  {
   "cell_type": "code",
   "execution_count": 8,
   "id": "50e41cdf",
   "metadata": {
    "execution": {
     "iopub.execute_input": "2024-04-04T06:58:47.314008Z",
     "iopub.status.busy": "2024-04-04T06:58:47.313519Z",
     "iopub.status.idle": "2024-04-04T06:58:47.322670Z",
     "shell.execute_reply": "2024-04-04T06:58:47.321726Z"
    },
    "papermill": {
     "duration": 0.028553,
     "end_time": "2024-04-04T06:58:47.324974",
     "exception": false,
     "start_time": "2024-04-04T06:58:47.296421",
     "status": "completed"
    },
    "tags": []
   },
   "outputs": [
    {
     "data": {
      "text/plain": [
       "0        Absolutely wonderful - silky and sexy and comf...\n",
       "1        Love this dress!  it's sooo pretty.  i happene...\n",
       "2        I had such high hopes for this dress and reall...\n",
       "3        I love, love, love this jumpsuit. it's fun, fl...\n",
       "4        This shirt is very flattering to all due to th...\n",
       "                               ...                        \n",
       "23481    I was very happy to snag this dress at such a ...\n",
       "23482    It reminds me of maternity clothes. soft, stre...\n",
       "23483    This fit well, but the top was very see throug...\n",
       "23484    I bought this dress for a wedding i have this ...\n",
       "23485    This dress in a lovely platinum is feminine an...\n",
       "Name: Review, Length: 23486, dtype: object"
      ]
     },
     "execution_count": 8,
     "metadata": {},
     "output_type": "execute_result"
    }
   ],
   "source": [
    "df['Review']"
   ]
  },
  {
   "cell_type": "markdown",
   "id": "a08b6642",
   "metadata": {
    "papermill": {
     "duration": 0.015777,
     "end_time": "2024-04-04T06:58:47.356202",
     "exception": false,
     "start_time": "2024-04-04T06:58:47.340425",
     "status": "completed"
    },
    "tags": []
   },
   "source": [
    "### Defining Target Variable (y) and Feature Variables (X)"
   ]
  },
  {
   "cell_type": "code",
   "execution_count": 9,
   "id": "2ef258a1",
   "metadata": {
    "execution": {
     "iopub.execute_input": "2024-04-04T06:58:47.389692Z",
     "iopub.status.busy": "2024-04-04T06:58:47.388855Z",
     "iopub.status.idle": "2024-04-04T06:58:47.395765Z",
     "shell.execute_reply": "2024-04-04T06:58:47.394637Z"
    },
    "papermill": {
     "duration": 0.026557,
     "end_time": "2024-04-04T06:58:47.398356",
     "exception": false,
     "start_time": "2024-04-04T06:58:47.371799",
     "status": "completed"
    },
    "tags": []
   },
   "outputs": [
    {
     "data": {
      "text/plain": [
       "Index(['Clothing ID', 'Age', 'Title', 'Review', 'Rating', 'Recommended',\n",
       "       'Positive Feedback', 'Division', 'Department', 'Category'],\n",
       "      dtype='object')"
      ]
     },
     "execution_count": 9,
     "metadata": {},
     "output_type": "execute_result"
    }
   ],
   "source": [
    "df.columns"
   ]
  },
  {
   "cell_type": "code",
   "execution_count": 10,
   "id": "7c85b6f9",
   "metadata": {
    "execution": {
     "iopub.execute_input": "2024-04-04T06:58:47.433857Z",
     "iopub.status.busy": "2024-04-04T06:58:47.432713Z",
     "iopub.status.idle": "2024-04-04T06:58:47.442934Z",
     "shell.execute_reply": "2024-04-04T06:58:47.441864Z"
    },
    "papermill": {
     "duration": 0.030483,
     "end_time": "2024-04-04T06:58:47.445304",
     "exception": false,
     "start_time": "2024-04-04T06:58:47.414821",
     "status": "completed"
    },
    "tags": []
   },
   "outputs": [
    {
     "data": {
      "text/plain": [
       "5.0    13131\n",
       "4.0     5077\n",
       "3.0     2871\n",
       "2.0     1565\n",
       "1.0      842\n",
       "Name: Rating, dtype: int64"
      ]
     },
     "execution_count": 10,
     "metadata": {},
     "output_type": "execute_result"
    }
   ],
   "source": [
    "x = df['Review']\n",
    "y = df['Rating']\n",
    "df['Rating'].value_counts()"
   ]
  },
  {
   "cell_type": "markdown",
   "id": "1916ad6e",
   "metadata": {
    "papermill": {
     "duration": 0.01583,
     "end_time": "2024-04-04T06:58:47.477142",
     "exception": false,
     "start_time": "2024-04-04T06:58:47.461312",
     "status": "completed"
    },
    "tags": []
   },
   "source": [
    "### Train Test Split"
   ]
  },
  {
   "cell_type": "code",
   "execution_count": 11,
   "id": "dc874a45",
   "metadata": {
    "execution": {
     "iopub.execute_input": "2024-04-04T06:58:47.512914Z",
     "iopub.status.busy": "2024-04-04T06:58:47.512242Z",
     "iopub.status.idle": "2024-04-04T06:58:47.850333Z",
     "shell.execute_reply": "2024-04-04T06:58:47.849011Z"
    },
    "papermill": {
     "duration": 0.358683,
     "end_time": "2024-04-04T06:58:47.853151",
     "exception": false,
     "start_time": "2024-04-04T06:58:47.494468",
     "status": "completed"
    },
    "tags": []
   },
   "outputs": [
    {
     "data": {
      "text/plain": [
       "((16440,), (7046,), (16440,), (7046,))"
      ]
     },
     "execution_count": 11,
     "metadata": {},
     "output_type": "execute_result"
    }
   ],
   "source": [
    "from sklearn.model_selection import train_test_split\n",
    "\n",
    "x_train, x_test, y_train, y_test = train_test_split(x, y, train_size=0.7, stratify=y, random_state=2529)\n",
    "x_train.shape, x_test.shape, y_train.shape, y_test.shape"
   ]
  },
  {
   "cell_type": "markdown",
   "id": "277fa228",
   "metadata": {
    "papermill": {
     "duration": 0.015677,
     "end_time": "2024-04-04T06:58:47.885183",
     "exception": false,
     "start_time": "2024-04-04T06:58:47.869506",
     "status": "completed"
    },
    "tags": []
   },
   "source": [
    "### Getting Tokens from Feature Text\n",
    "\n",
    "Using `CountVectorizer` from sci-kit learn"
   ]
  },
  {
   "cell_type": "code",
   "execution_count": 12,
   "id": "c83be219",
   "metadata": {
    "execution": {
     "iopub.execute_input": "2024-04-04T06:58:47.921639Z",
     "iopub.status.busy": "2024-04-04T06:58:47.921187Z",
     "iopub.status.idle": "2024-04-04T06:58:52.393078Z",
     "shell.execute_reply": "2024-04-04T06:58:52.391758Z"
    },
    "papermill": {
     "duration": 4.493855,
     "end_time": "2024-04-04T06:58:52.396289",
     "exception": false,
     "start_time": "2024-04-04T06:58:47.902434",
     "status": "completed"
    },
    "tags": []
   },
   "outputs": [
    {
     "data": {
      "text/plain": [
       "array(['00 big', '00 fits', '00 petite', ..., 'zipper zip',\n",
       "       'zippered pockets', 'zippers buttons'], dtype=object)"
      ]
     },
     "execution_count": 12,
     "metadata": {},
     "output_type": "execute_result"
    }
   ],
   "source": [
    "from sklearn.feature_extraction.text import CountVectorizer\n",
    "\n",
    "cv = CountVectorizer(lowercase=True, analyzer='word', ngram_range=(2, 3), stop_words='english', max_features=50000)\n",
    "x_train = cv.fit_transform(x_train)\n",
    "cv.get_feature_names_out()"
   ]
  },
  {
   "cell_type": "code",
   "execution_count": 13,
   "id": "2b04b3bb",
   "metadata": {
    "execution": {
     "iopub.execute_input": "2024-04-04T06:58:52.430999Z",
     "iopub.status.busy": "2024-04-04T06:58:52.430518Z",
     "iopub.status.idle": "2024-04-04T06:58:53.068552Z",
     "shell.execute_reply": "2024-04-04T06:58:53.067360Z"
    },
    "papermill": {
     "duration": 0.659595,
     "end_time": "2024-04-04T06:58:53.071989",
     "exception": false,
     "start_time": "2024-04-04T06:58:52.412394",
     "status": "completed"
    },
    "tags": []
   },
   "outputs": [
    {
     "data": {
      "text/plain": [
       "array([[0, 0, 0, ..., 0, 0, 0],\n",
       "       [0, 0, 0, ..., 0, 0, 0],\n",
       "       [0, 0, 0, ..., 0, 0, 0],\n",
       "       ...,\n",
       "       [0, 0, 0, ..., 0, 0, 0],\n",
       "       [0, 0, 0, ..., 0, 0, 0],\n",
       "       [0, 0, 0, ..., 0, 0, 0]])"
      ]
     },
     "execution_count": 13,
     "metadata": {},
     "output_type": "execute_result"
    }
   ],
   "source": [
    "x_train.toarray()"
   ]
  },
  {
   "cell_type": "code",
   "execution_count": 14,
   "id": "2114fc7a",
   "metadata": {
    "execution": {
     "iopub.execute_input": "2024-04-04T06:58:53.109436Z",
     "iopub.status.busy": "2024-04-04T06:58:53.108378Z",
     "iopub.status.idle": "2024-04-04T06:58:55.068185Z",
     "shell.execute_reply": "2024-04-04T06:58:55.066745Z"
    },
    "papermill": {
     "duration": 1.980899,
     "end_time": "2024-04-04T06:58:55.070788",
     "exception": false,
     "start_time": "2024-04-04T06:58:53.089889",
     "status": "completed"
    },
    "tags": []
   },
   "outputs": [
    {
     "data": {
      "text/plain": [
       "array(['00 24', '00 petite', '00 sold', ..., 'zipper split',\n",
       "       'zipper sturdy', 'zippers buttons'], dtype=object)"
      ]
     },
     "execution_count": 14,
     "metadata": {},
     "output_type": "execute_result"
    }
   ],
   "source": [
    "x_test = cv.fit_transform(x_test)\n",
    "cv.get_feature_names_out()"
   ]
  },
  {
   "cell_type": "code",
   "execution_count": 15,
   "id": "fad7569f",
   "metadata": {
    "execution": {
     "iopub.execute_input": "2024-04-04T06:58:55.105712Z",
     "iopub.status.busy": "2024-04-04T06:58:55.105236Z",
     "iopub.status.idle": "2024-04-04T06:58:55.375616Z",
     "shell.execute_reply": "2024-04-04T06:58:55.374325Z"
    },
    "papermill": {
     "duration": 0.291223,
     "end_time": "2024-04-04T06:58:55.378544",
     "exception": false,
     "start_time": "2024-04-04T06:58:55.087321",
     "status": "completed"
    },
    "tags": []
   },
   "outputs": [
    {
     "data": {
      "text/plain": [
       "array([[0, 0, 0, ..., 0, 0, 0],\n",
       "       [0, 0, 0, ..., 0, 0, 0],\n",
       "       [0, 0, 0, ..., 0, 0, 0],\n",
       "       ...,\n",
       "       [0, 0, 0, ..., 0, 0, 0],\n",
       "       [0, 0, 0, ..., 0, 0, 0],\n",
       "       [0, 0, 0, ..., 0, 0, 0]])"
      ]
     },
     "execution_count": 15,
     "metadata": {},
     "output_type": "execute_result"
    }
   ],
   "source": [
    "x_test.toarray()"
   ]
  },
  {
   "cell_type": "markdown",
   "id": "9ec83024",
   "metadata": {
    "papermill": {
     "duration": 0.016806,
     "end_time": "2024-04-04T06:58:55.412034",
     "exception": false,
     "start_time": "2024-04-04T06:58:55.395228",
     "status": "completed"
    },
    "tags": []
   },
   "source": [
    "### Model training\n",
    "\n",
    "Using Multinomial Naïve Bayes algorithm, which is implemented in sci-kit as `MultinomialNB`"
   ]
  },
  {
   "cell_type": "code",
   "execution_count": 16,
   "id": "6bfb00a4",
   "metadata": {
    "execution": {
     "iopub.execute_input": "2024-04-04T06:58:55.447682Z",
     "iopub.status.busy": "2024-04-04T06:58:55.447083Z",
     "iopub.status.idle": "2024-04-04T06:58:55.485643Z",
     "shell.execute_reply": "2024-04-04T06:58:55.484297Z"
    },
    "papermill": {
     "duration": 0.059986,
     "end_time": "2024-04-04T06:58:55.488442",
     "exception": false,
     "start_time": "2024-04-04T06:58:55.428456",
     "status": "completed"
    },
    "tags": []
   },
   "outputs": [
    {
     "data": {
      "text/html": [
       "<style>#sk-container-id-1 {color: black;background-color: white;}#sk-container-id-1 pre{padding: 0;}#sk-container-id-1 div.sk-toggleable {background-color: white;}#sk-container-id-1 label.sk-toggleable__label {cursor: pointer;display: block;width: 100%;margin-bottom: 0;padding: 0.3em;box-sizing: border-box;text-align: center;}#sk-container-id-1 label.sk-toggleable__label-arrow:before {content: \"▸\";float: left;margin-right: 0.25em;color: #696969;}#sk-container-id-1 label.sk-toggleable__label-arrow:hover:before {color: black;}#sk-container-id-1 div.sk-estimator:hover label.sk-toggleable__label-arrow:before {color: black;}#sk-container-id-1 div.sk-toggleable__content {max-height: 0;max-width: 0;overflow: hidden;text-align: left;background-color: #f0f8ff;}#sk-container-id-1 div.sk-toggleable__content pre {margin: 0.2em;color: black;border-radius: 0.25em;background-color: #f0f8ff;}#sk-container-id-1 input.sk-toggleable__control:checked~div.sk-toggleable__content {max-height: 200px;max-width: 100%;overflow: auto;}#sk-container-id-1 input.sk-toggleable__control:checked~label.sk-toggleable__label-arrow:before {content: \"▾\";}#sk-container-id-1 div.sk-estimator input.sk-toggleable__control:checked~label.sk-toggleable__label {background-color: #d4ebff;}#sk-container-id-1 div.sk-label input.sk-toggleable__control:checked~label.sk-toggleable__label {background-color: #d4ebff;}#sk-container-id-1 input.sk-hidden--visually {border: 0;clip: rect(1px 1px 1px 1px);clip: rect(1px, 1px, 1px, 1px);height: 1px;margin: -1px;overflow: hidden;padding: 0;position: absolute;width: 1px;}#sk-container-id-1 div.sk-estimator {font-family: monospace;background-color: #f0f8ff;border: 1px dotted black;border-radius: 0.25em;box-sizing: border-box;margin-bottom: 0.5em;}#sk-container-id-1 div.sk-estimator:hover {background-color: #d4ebff;}#sk-container-id-1 div.sk-parallel-item::after {content: \"\";width: 100%;border-bottom: 1px solid gray;flex-grow: 1;}#sk-container-id-1 div.sk-label:hover label.sk-toggleable__label {background-color: #d4ebff;}#sk-container-id-1 div.sk-serial::before {content: \"\";position: absolute;border-left: 1px solid gray;box-sizing: border-box;top: 0;bottom: 0;left: 50%;z-index: 0;}#sk-container-id-1 div.sk-serial {display: flex;flex-direction: column;align-items: center;background-color: white;padding-right: 0.2em;padding-left: 0.2em;position: relative;}#sk-container-id-1 div.sk-item {position: relative;z-index: 1;}#sk-container-id-1 div.sk-parallel {display: flex;align-items: stretch;justify-content: center;background-color: white;position: relative;}#sk-container-id-1 div.sk-item::before, #sk-container-id-1 div.sk-parallel-item::before {content: \"\";position: absolute;border-left: 1px solid gray;box-sizing: border-box;top: 0;bottom: 0;left: 50%;z-index: -1;}#sk-container-id-1 div.sk-parallel-item {display: flex;flex-direction: column;z-index: 1;position: relative;background-color: white;}#sk-container-id-1 div.sk-parallel-item:first-child::after {align-self: flex-end;width: 50%;}#sk-container-id-1 div.sk-parallel-item:last-child::after {align-self: flex-start;width: 50%;}#sk-container-id-1 div.sk-parallel-item:only-child::after {width: 0;}#sk-container-id-1 div.sk-dashed-wrapped {border: 1px dashed gray;margin: 0 0.4em 0.5em 0.4em;box-sizing: border-box;padding-bottom: 0.4em;background-color: white;}#sk-container-id-1 div.sk-label label {font-family: monospace;font-weight: bold;display: inline-block;line-height: 1.2em;}#sk-container-id-1 div.sk-label-container {text-align: center;}#sk-container-id-1 div.sk-container {/* jupyter's `normalize.less` sets `[hidden] { display: none; }` but bootstrap.min.css set `[hidden] { display: none !important; }` so we also need the `!important` here to be able to override the default hidden behavior on the sphinx rendered scikit-learn.org. See: https://github.com/scikit-learn/scikit-learn/issues/21755 */display: inline-block !important;position: relative;}#sk-container-id-1 div.sk-text-repr-fallback {display: none;}</style><div id=\"sk-container-id-1\" class=\"sk-top-container\"><div class=\"sk-text-repr-fallback\"><pre>MultinomialNB()</pre><b>In a Jupyter environment, please rerun this cell to show the HTML representation or trust the notebook. <br />On GitHub, the HTML representation is unable to render, please try loading this page with nbviewer.org.</b></div><div class=\"sk-container\" hidden><div class=\"sk-item\"><div class=\"sk-estimator sk-toggleable\"><input class=\"sk-toggleable__control sk-hidden--visually\" id=\"sk-estimator-id-1\" type=\"checkbox\" checked><label for=\"sk-estimator-id-1\" class=\"sk-toggleable__label sk-toggleable__label-arrow\">MultinomialNB</label><div class=\"sk-toggleable__content\"><pre>MultinomialNB()</pre></div></div></div></div></div>"
      ],
      "text/plain": [
       "MultinomialNB()"
      ]
     },
     "execution_count": 16,
     "metadata": {},
     "output_type": "execute_result"
    }
   ],
   "source": [
    "from sklearn.naive_bayes import MultinomialNB\n",
    "\n",
    "model = MultinomialNB()\n",
    "model.fit(x_train, y_train)"
   ]
  },
  {
   "cell_type": "markdown",
   "id": "41b98ea4",
   "metadata": {
    "papermill": {
     "duration": 0.016448,
     "end_time": "2024-04-04T06:58:55.521993",
     "exception": false,
     "start_time": "2024-04-04T06:58:55.505545",
     "status": "completed"
    },
    "tags": []
   },
   "source": [
    "### Model prediction"
   ]
  },
  {
   "cell_type": "code",
   "execution_count": 17,
   "id": "4d56b2de",
   "metadata": {
    "execution": {
     "iopub.execute_input": "2024-04-04T06:58:55.558437Z",
     "iopub.status.busy": "2024-04-04T06:58:55.558021Z",
     "iopub.status.idle": "2024-04-04T06:58:55.572031Z",
     "shell.execute_reply": "2024-04-04T06:58:55.570598Z"
    },
    "papermill": {
     "duration": 0.035371,
     "end_time": "2024-04-04T06:58:55.575065",
     "exception": false,
     "start_time": "2024-04-04T06:58:55.539694",
     "status": "completed"
    },
    "tags": []
   },
   "outputs": [
    {
     "data": {
      "text/plain": [
       "(7046,)"
      ]
     },
     "execution_count": 17,
     "metadata": {},
     "output_type": "execute_result"
    }
   ],
   "source": [
    "y_pred = model.predict(x_test)\n",
    "y_pred.shape"
   ]
  },
  {
   "cell_type": "code",
   "execution_count": 18,
   "id": "5352057c",
   "metadata": {
    "execution": {
     "iopub.execute_input": "2024-04-04T06:58:55.611481Z",
     "iopub.status.busy": "2024-04-04T06:58:55.611002Z",
     "iopub.status.idle": "2024-04-04T06:58:55.618987Z",
     "shell.execute_reply": "2024-04-04T06:58:55.617731Z"
    },
    "papermill": {
     "duration": 0.029289,
     "end_time": "2024-04-04T06:58:55.621445",
     "exception": false,
     "start_time": "2024-04-04T06:58:55.592156",
     "status": "completed"
    },
    "tags": []
   },
   "outputs": [
    {
     "data": {
      "text/plain": [
       "array([1., 2., 5., ..., 4., 3., 1.])"
      ]
     },
     "execution_count": 18,
     "metadata": {},
     "output_type": "execute_result"
    }
   ],
   "source": [
    "y_pred"
   ]
  },
  {
   "cell_type": "markdown",
   "id": "3a773249",
   "metadata": {
    "papermill": {
     "duration": 0.017045,
     "end_time": "2024-04-04T06:58:55.656689",
     "exception": false,
     "start_time": "2024-04-04T06:58:55.639644",
     "status": "completed"
    },
    "tags": []
   },
   "source": [
    "Getting probability of each predicted class"
   ]
  },
  {
   "cell_type": "code",
   "execution_count": 19,
   "id": "915151f9",
   "metadata": {
    "execution": {
     "iopub.execute_input": "2024-04-04T06:58:55.695101Z",
     "iopub.status.busy": "2024-04-04T06:58:55.694337Z",
     "iopub.status.idle": "2024-04-04T06:58:55.708342Z",
     "shell.execute_reply": "2024-04-04T06:58:55.707066Z"
    },
    "papermill": {
     "duration": 0.036421,
     "end_time": "2024-04-04T06:58:55.711158",
     "exception": false,
     "start_time": "2024-04-04T06:58:55.674737",
     "status": "completed"
    },
    "tags": []
   },
   "outputs": [
    {
     "data": {
      "text/plain": [
       "array([[0.45433767, 0.08215679, 0.44111678, 0.00904855, 0.01334022],\n",
       "       [0.08538546, 0.53197259, 0.36096501, 0.00370374, 0.01797319],\n",
       "       [0.04978519, 0.07954803, 0.11784385, 0.31199241, 0.44083052],\n",
       "       ...,\n",
       "       [0.07871327, 0.0343138 , 0.02156397, 0.8608945 , 0.00451447],\n",
       "       [0.09545745, 0.00239741, 0.84956399, 0.01241549, 0.04016567],\n",
       "       [0.65456291, 0.01868614, 0.14266667, 0.04591333, 0.13817096]])"
      ]
     },
     "execution_count": 19,
     "metadata": {},
     "output_type": "execute_result"
    }
   ],
   "source": [
    "model.predict_proba(x_test)"
   ]
  },
  {
   "cell_type": "markdown",
   "id": "046d971c",
   "metadata": {
    "papermill": {
     "duration": 0.018454,
     "end_time": "2024-04-04T06:58:55.747860",
     "exception": false,
     "start_time": "2024-04-04T06:58:55.729406",
     "status": "completed"
    },
    "tags": []
   },
   "source": [
    "### Model evaluation"
   ]
  },
  {
   "cell_type": "code",
   "execution_count": 20,
   "id": "51be6f32",
   "metadata": {
    "execution": {
     "iopub.execute_input": "2024-04-04T06:58:55.786294Z",
     "iopub.status.busy": "2024-04-04T06:58:55.785804Z",
     "iopub.status.idle": "2024-04-04T06:58:55.805346Z",
     "shell.execute_reply": "2024-04-04T06:58:55.804355Z"
    },
    "papermill": {
     "duration": 0.043509,
     "end_time": "2024-04-04T06:58:55.808793",
     "exception": false,
     "start_time": "2024-04-04T06:58:55.765284",
     "status": "completed"
    },
    "tags": []
   },
   "outputs": [
    {
     "name": "stdout",
     "output_type": "stream",
     "text": [
      "[[  65   41   46   37   64]\n",
      " [ 158   75   57   80  100]\n",
      " [ 280  176  138  115  152]\n",
      " [ 539  297  217  201  269]\n",
      " [1237  777  619  533  773]]\n"
     ]
    }
   ],
   "source": [
    "from sklearn.metrics import confusion_matrix, classification_report\n",
    "\n",
    "print(confusion_matrix(y_test, y_pred))"
   ]
  },
  {
   "cell_type": "code",
   "execution_count": 21,
   "id": "84a3e948",
   "metadata": {
    "execution": {
     "iopub.execute_input": "2024-04-04T06:58:55.846475Z",
     "iopub.status.busy": "2024-04-04T06:58:55.845969Z",
     "iopub.status.idle": "2024-04-04T06:58:55.877420Z",
     "shell.execute_reply": "2024-04-04T06:58:55.875620Z"
    },
    "papermill": {
     "duration": 0.053959,
     "end_time": "2024-04-04T06:58:55.880235",
     "exception": false,
     "start_time": "2024-04-04T06:58:55.826276",
     "status": "completed"
    },
    "tags": []
   },
   "outputs": [
    {
     "name": "stdout",
     "output_type": "stream",
     "text": [
      "              precision    recall  f1-score   support\n",
      "\n",
      "         1.0       0.03      0.26      0.05       253\n",
      "         2.0       0.05      0.16      0.08       470\n",
      "         3.0       0.13      0.16      0.14       861\n",
      "         4.0       0.21      0.13      0.16      1523\n",
      "         5.0       0.57      0.20      0.29      3939\n",
      "\n",
      "    accuracy                           0.18      7046\n",
      "   macro avg       0.20      0.18      0.15      7046\n",
      "weighted avg       0.38      0.18      0.22      7046\n",
      "\n"
     ]
    }
   ],
   "source": [
    "print(classification_report(y_test, y_pred))"
   ]
  },
  {
   "cell_type": "markdown",
   "id": "b09db3ff",
   "metadata": {
    "papermill": {
     "duration": 0.018337,
     "end_time": "2024-04-04T06:58:55.917201",
     "exception": false,
     "start_time": "2024-04-04T06:58:55.898864",
     "status": "completed"
    },
    "tags": []
   },
   "source": [
    "### Recategorizing ratings as Poor (0) and Good (1)"
   ]
  },
  {
   "cell_type": "code",
   "execution_count": 22,
   "id": "89a3d698",
   "metadata": {
    "execution": {
     "iopub.execute_input": "2024-04-04T06:58:55.955117Z",
     "iopub.status.busy": "2024-04-04T06:58:55.954709Z",
     "iopub.status.idle": "2024-04-04T06:58:55.965109Z",
     "shell.execute_reply": "2024-04-04T06:58:55.963921Z"
    },
    "papermill": {
     "duration": 0.032571,
     "end_time": "2024-04-04T06:58:55.967548",
     "exception": false,
     "start_time": "2024-04-04T06:58:55.934977",
     "status": "completed"
    },
    "tags": []
   },
   "outputs": [
    {
     "data": {
      "text/plain": [
       "5.0    13131\n",
       "4.0     5077\n",
       "3.0     2871\n",
       "2.0     1565\n",
       "1.0      842\n",
       "Name: Rating, dtype: int64"
      ]
     },
     "execution_count": 22,
     "metadata": {},
     "output_type": "execute_result"
    }
   ],
   "source": [
    "df[\"Rating\"].value_counts()"
   ]
  },
  {
   "cell_type": "markdown",
   "id": "1284b212",
   "metadata": {
    "papermill": {
     "duration": 0.017567,
     "end_time": "2024-04-04T06:58:56.002803",
     "exception": false,
     "start_time": "2024-04-04T06:58:55.985236",
     "status": "completed"
    },
    "tags": []
   },
   "source": [
    "re-rating 1,2,3 as 0 and 4,5 as 1"
   ]
  },
  {
   "cell_type": "code",
   "execution_count": 23,
   "id": "eab680e5",
   "metadata": {
    "execution": {
     "iopub.execute_input": "2024-04-04T06:58:56.040889Z",
     "iopub.status.busy": "2024-04-04T06:58:56.040389Z",
     "iopub.status.idle": "2024-04-04T06:58:56.049817Z",
     "shell.execute_reply": "2024-04-04T06:58:56.048561Z"
    },
    "papermill": {
     "duration": 0.032043,
     "end_time": "2024-04-04T06:58:56.052596",
     "exception": false,
     "start_time": "2024-04-04T06:58:56.020553",
     "status": "completed"
    },
    "tags": []
   },
   "outputs": [],
   "source": [
    "df.replace({'Rating': { 1:0, 2:0, 3:0, 4:1, 5:1 }}, inplace=True)\n",
    "y = df['Rating']\n",
    "x = df['Review']"
   ]
  },
  {
   "cell_type": "markdown",
   "id": "01c3d074",
   "metadata": {
    "papermill": {
     "duration": 0.017341,
     "end_time": "2024-04-04T06:58:56.089259",
     "exception": false,
     "start_time": "2024-04-04T06:58:56.071918",
     "status": "completed"
    },
    "tags": []
   },
   "source": [
    "### Train Test Split"
   ]
  },
  {
   "cell_type": "code",
   "execution_count": 24,
   "id": "4edec339",
   "metadata": {
    "execution": {
     "iopub.execute_input": "2024-04-04T06:58:56.126319Z",
     "iopub.status.busy": "2024-04-04T06:58:56.125675Z",
     "iopub.status.idle": "2024-04-04T06:58:56.150710Z",
     "shell.execute_reply": "2024-04-04T06:58:56.149240Z"
    },
    "papermill": {
     "duration": 0.047157,
     "end_time": "2024-04-04T06:58:56.153779",
     "exception": false,
     "start_time": "2024-04-04T06:58:56.106622",
     "status": "completed"
    },
    "tags": []
   },
   "outputs": [
    {
     "data": {
      "text/plain": [
       "((16440,), (7046,), (16440,), (7046,))"
      ]
     },
     "execution_count": 24,
     "metadata": {},
     "output_type": "execute_result"
    }
   ],
   "source": [
    "from sklearn.model_selection import train_test_split\n",
    "\n",
    "x_train, x_test, y_train, y_test = train_test_split(x, y, train_size=0.7, stratify=y, random_state=2529)\n",
    "x_train.shape, x_test.shape, y_train.shape, y_test.shape"
   ]
  },
  {
   "cell_type": "markdown",
   "id": "8046b9d9",
   "metadata": {
    "papermill": {
     "duration": 0.01764,
     "end_time": "2024-04-04T06:58:56.189696",
     "exception": false,
     "start_time": "2024-04-04T06:58:56.172056",
     "status": "completed"
    },
    "tags": []
   },
   "source": [
    "### Getting Tokens from Feature Text"
   ]
  },
  {
   "cell_type": "code",
   "execution_count": 25,
   "id": "4ec57d53",
   "metadata": {
    "execution": {
     "iopub.execute_input": "2024-04-04T06:58:56.229082Z",
     "iopub.status.busy": "2024-04-04T06:58:56.227711Z",
     "iopub.status.idle": "2024-04-04T06:59:02.405629Z",
     "shell.execute_reply": "2024-04-04T06:59:02.404229Z"
    },
    "papermill": {
     "duration": 6.20105,
     "end_time": "2024-04-04T06:59:02.408786",
     "exception": false,
     "start_time": "2024-04-04T06:58:56.207736",
     "status": "completed"
    },
    "tags": []
   },
   "outputs": [],
   "source": [
    "from sklearn.feature_extraction.text import CountVectorizer\n",
    "\n",
    "cv = CountVectorizer(lowercase=True, analyzer='word', ngram_range=(2, 3), stop_words='english', max_features=50000)\n",
    "x_train = cv.fit_transform(x_train)\n",
    "x_test = cv.fit_transform(x_test)"
   ]
  },
  {
   "cell_type": "markdown",
   "id": "ac8e4bfe",
   "metadata": {
    "papermill": {
     "duration": 0.017489,
     "end_time": "2024-04-04T06:59:02.444096",
     "exception": false,
     "start_time": "2024-04-04T06:59:02.426607",
     "status": "completed"
    },
    "tags": []
   },
   "source": [
    "### Model re-training"
   ]
  },
  {
   "cell_type": "code",
   "execution_count": 26,
   "id": "efad6bad",
   "metadata": {
    "execution": {
     "iopub.execute_input": "2024-04-04T06:59:02.481778Z",
     "iopub.status.busy": "2024-04-04T06:59:02.481301Z",
     "iopub.status.idle": "2024-04-04T06:59:02.499853Z",
     "shell.execute_reply": "2024-04-04T06:59:02.498936Z"
    },
    "papermill": {
     "duration": 0.040338,
     "end_time": "2024-04-04T06:59:02.502186",
     "exception": false,
     "start_time": "2024-04-04T06:59:02.461848",
     "status": "completed"
    },
    "tags": []
   },
   "outputs": [
    {
     "data": {
      "text/html": [
       "<style>#sk-container-id-2 {color: black;background-color: white;}#sk-container-id-2 pre{padding: 0;}#sk-container-id-2 div.sk-toggleable {background-color: white;}#sk-container-id-2 label.sk-toggleable__label {cursor: pointer;display: block;width: 100%;margin-bottom: 0;padding: 0.3em;box-sizing: border-box;text-align: center;}#sk-container-id-2 label.sk-toggleable__label-arrow:before {content: \"▸\";float: left;margin-right: 0.25em;color: #696969;}#sk-container-id-2 label.sk-toggleable__label-arrow:hover:before {color: black;}#sk-container-id-2 div.sk-estimator:hover label.sk-toggleable__label-arrow:before {color: black;}#sk-container-id-2 div.sk-toggleable__content {max-height: 0;max-width: 0;overflow: hidden;text-align: left;background-color: #f0f8ff;}#sk-container-id-2 div.sk-toggleable__content pre {margin: 0.2em;color: black;border-radius: 0.25em;background-color: #f0f8ff;}#sk-container-id-2 input.sk-toggleable__control:checked~div.sk-toggleable__content {max-height: 200px;max-width: 100%;overflow: auto;}#sk-container-id-2 input.sk-toggleable__control:checked~label.sk-toggleable__label-arrow:before {content: \"▾\";}#sk-container-id-2 div.sk-estimator input.sk-toggleable__control:checked~label.sk-toggleable__label {background-color: #d4ebff;}#sk-container-id-2 div.sk-label input.sk-toggleable__control:checked~label.sk-toggleable__label {background-color: #d4ebff;}#sk-container-id-2 input.sk-hidden--visually {border: 0;clip: rect(1px 1px 1px 1px);clip: rect(1px, 1px, 1px, 1px);height: 1px;margin: -1px;overflow: hidden;padding: 0;position: absolute;width: 1px;}#sk-container-id-2 div.sk-estimator {font-family: monospace;background-color: #f0f8ff;border: 1px dotted black;border-radius: 0.25em;box-sizing: border-box;margin-bottom: 0.5em;}#sk-container-id-2 div.sk-estimator:hover {background-color: #d4ebff;}#sk-container-id-2 div.sk-parallel-item::after {content: \"\";width: 100%;border-bottom: 1px solid gray;flex-grow: 1;}#sk-container-id-2 div.sk-label:hover label.sk-toggleable__label {background-color: #d4ebff;}#sk-container-id-2 div.sk-serial::before {content: \"\";position: absolute;border-left: 1px solid gray;box-sizing: border-box;top: 0;bottom: 0;left: 50%;z-index: 0;}#sk-container-id-2 div.sk-serial {display: flex;flex-direction: column;align-items: center;background-color: white;padding-right: 0.2em;padding-left: 0.2em;position: relative;}#sk-container-id-2 div.sk-item {position: relative;z-index: 1;}#sk-container-id-2 div.sk-parallel {display: flex;align-items: stretch;justify-content: center;background-color: white;position: relative;}#sk-container-id-2 div.sk-item::before, #sk-container-id-2 div.sk-parallel-item::before {content: \"\";position: absolute;border-left: 1px solid gray;box-sizing: border-box;top: 0;bottom: 0;left: 50%;z-index: -1;}#sk-container-id-2 div.sk-parallel-item {display: flex;flex-direction: column;z-index: 1;position: relative;background-color: white;}#sk-container-id-2 div.sk-parallel-item:first-child::after {align-self: flex-end;width: 50%;}#sk-container-id-2 div.sk-parallel-item:last-child::after {align-self: flex-start;width: 50%;}#sk-container-id-2 div.sk-parallel-item:only-child::after {width: 0;}#sk-container-id-2 div.sk-dashed-wrapped {border: 1px dashed gray;margin: 0 0.4em 0.5em 0.4em;box-sizing: border-box;padding-bottom: 0.4em;background-color: white;}#sk-container-id-2 div.sk-label label {font-family: monospace;font-weight: bold;display: inline-block;line-height: 1.2em;}#sk-container-id-2 div.sk-label-container {text-align: center;}#sk-container-id-2 div.sk-container {/* jupyter's `normalize.less` sets `[hidden] { display: none; }` but bootstrap.min.css set `[hidden] { display: none !important; }` so we also need the `!important` here to be able to override the default hidden behavior on the sphinx rendered scikit-learn.org. See: https://github.com/scikit-learn/scikit-learn/issues/21755 */display: inline-block !important;position: relative;}#sk-container-id-2 div.sk-text-repr-fallback {display: none;}</style><div id=\"sk-container-id-2\" class=\"sk-top-container\"><div class=\"sk-text-repr-fallback\"><pre>MultinomialNB()</pre><b>In a Jupyter environment, please rerun this cell to show the HTML representation or trust the notebook. <br />On GitHub, the HTML representation is unable to render, please try loading this page with nbviewer.org.</b></div><div class=\"sk-container\" hidden><div class=\"sk-item\"><div class=\"sk-estimator sk-toggleable\"><input class=\"sk-toggleable__control sk-hidden--visually\" id=\"sk-estimator-id-2\" type=\"checkbox\" checked><label for=\"sk-estimator-id-2\" class=\"sk-toggleable__label sk-toggleable__label-arrow\">MultinomialNB</label><div class=\"sk-toggleable__content\"><pre>MultinomialNB()</pre></div></div></div></div></div>"
      ],
      "text/plain": [
       "MultinomialNB()"
      ]
     },
     "execution_count": 26,
     "metadata": {},
     "output_type": "execute_result"
    }
   ],
   "source": [
    "from sklearn.naive_bayes import MultinomialNB\n",
    "\n",
    "model = MultinomialNB()\n",
    "model.fit(x_train, y_train)"
   ]
  },
  {
   "cell_type": "markdown",
   "id": "fe46a4ff",
   "metadata": {
    "papermill": {
     "duration": 0.017514,
     "end_time": "2024-04-04T06:59:02.537760",
     "exception": false,
     "start_time": "2024-04-04T06:59:02.520246",
     "status": "completed"
    },
    "tags": []
   },
   "source": [
    "### Model prediction"
   ]
  },
  {
   "cell_type": "code",
   "execution_count": 27,
   "id": "50c6cc77",
   "metadata": {
    "execution": {
     "iopub.execute_input": "2024-04-04T06:59:02.578583Z",
     "iopub.status.busy": "2024-04-04T06:59:02.578100Z",
     "iopub.status.idle": "2024-04-04T06:59:02.589112Z",
     "shell.execute_reply": "2024-04-04T06:59:02.587449Z"
    },
    "papermill": {
     "duration": 0.036975,
     "end_time": "2024-04-04T06:59:02.592943",
     "exception": false,
     "start_time": "2024-04-04T06:59:02.555968",
     "status": "completed"
    },
    "tags": []
   },
   "outputs": [
    {
     "data": {
      "text/plain": [
       "(7046,)"
      ]
     },
     "execution_count": 27,
     "metadata": {},
     "output_type": "execute_result"
    }
   ],
   "source": [
    "y_pred = model.predict(x_test)\n",
    "y_pred.shape"
   ]
  },
  {
   "cell_type": "code",
   "execution_count": 28,
   "id": "43982906",
   "metadata": {
    "execution": {
     "iopub.execute_input": "2024-04-04T06:59:02.632513Z",
     "iopub.status.busy": "2024-04-04T06:59:02.631988Z",
     "iopub.status.idle": "2024-04-04T06:59:02.639626Z",
     "shell.execute_reply": "2024-04-04T06:59:02.638236Z"
    },
    "papermill": {
     "duration": 0.030921,
     "end_time": "2024-04-04T06:59:02.642542",
     "exception": false,
     "start_time": "2024-04-04T06:59:02.611621",
     "status": "completed"
    },
    "tags": []
   },
   "outputs": [
    {
     "data": {
      "text/plain": [
       "array([0., 0., 1., ..., 1., 1., 1.])"
      ]
     },
     "execution_count": 28,
     "metadata": {},
     "output_type": "execute_result"
    }
   ],
   "source": [
    "y_pred"
   ]
  },
  {
   "cell_type": "markdown",
   "id": "49dd73c7",
   "metadata": {
    "papermill": {
     "duration": 0.017944,
     "end_time": "2024-04-04T06:59:02.678868",
     "exception": false,
     "start_time": "2024-04-04T06:59:02.660924",
     "status": "completed"
    },
    "tags": []
   },
   "source": [
    "### Model evaluation"
   ]
  },
  {
   "cell_type": "code",
   "execution_count": 29,
   "id": "cf5c3b63",
   "metadata": {
    "execution": {
     "iopub.execute_input": "2024-04-04T06:59:02.717639Z",
     "iopub.status.busy": "2024-04-04T06:59:02.716833Z",
     "iopub.status.idle": "2024-04-04T06:59:02.735807Z",
     "shell.execute_reply": "2024-04-04T06:59:02.734534Z"
    },
    "papermill": {
     "duration": 0.041594,
     "end_time": "2024-04-04T06:59:02.738650",
     "exception": false,
     "start_time": "2024-04-04T06:59:02.697056",
     "status": "completed"
    },
    "tags": []
   },
   "outputs": [
    {
     "name": "stdout",
     "output_type": "stream",
     "text": [
      "[[ 712  871]\n",
      " [2643 2820]]\n"
     ]
    }
   ],
   "source": [
    "from sklearn.metrics import confusion_matrix, classification_report\n",
    "\n",
    "print(confusion_matrix(y_test, y_pred))"
   ]
  },
  {
   "cell_type": "code",
   "execution_count": 30,
   "id": "47ba58ad",
   "metadata": {
    "execution": {
     "iopub.execute_input": "2024-04-04T06:59:02.777945Z",
     "iopub.status.busy": "2024-04-04T06:59:02.776792Z",
     "iopub.status.idle": "2024-04-04T06:59:02.807582Z",
     "shell.execute_reply": "2024-04-04T06:59:02.806206Z"
    },
    "papermill": {
     "duration": 0.053489,
     "end_time": "2024-04-04T06:59:02.810507",
     "exception": false,
     "start_time": "2024-04-04T06:59:02.757018",
     "status": "completed"
    },
    "tags": []
   },
   "outputs": [
    {
     "name": "stdout",
     "output_type": "stream",
     "text": [
      "              precision    recall  f1-score   support\n",
      "\n",
      "         0.0       0.21      0.45      0.29      1583\n",
      "         1.0       0.76      0.52      0.62      5463\n",
      "\n",
      "    accuracy                           0.50      7046\n",
      "   macro avg       0.49      0.48      0.45      7046\n",
      "weighted avg       0.64      0.50      0.54      7046\n",
      "\n"
     ]
    }
   ],
   "source": [
    "print(classification_report(y_test, y_pred))"
   ]
  },
  {
   "cell_type": "markdown",
   "id": "6439d3bf",
   "metadata": {
    "papermill": {
     "duration": 0.017953,
     "end_time": "2024-04-04T06:59:02.847046",
     "exception": false,
     "start_time": "2024-04-04T06:59:02.829093",
     "status": "completed"
    },
    "tags": []
   },
   "source": [
    "### Explanation\n",
    "\n",
    "This project is focused on building a prediction model. At first, the all required libraries and a test dataset are imported. The dataset was evaluated and pre processed to prepare for it for processing, then a portion of it was kept for testing and the rest was used to train the model. The model was used to get some prediction dataset. Finnaly, prediction accuracy was checked against the test dataset, some adjusment were made and the model was re-trained for better accuracy."
   ]
  }
 ],
 "metadata": {
  "kaggle": {
   "accelerator": "none",
   "dataSources": [],
   "dockerImageVersionId": 30527,
   "isGpuEnabled": false,
   "isInternetEnabled": true,
   "language": "python",
   "sourceType": "notebook"
  },
  "kernelspec": {
   "display_name": "Python 3",
   "language": "python",
   "name": "python3"
  },
  "language_info": {
   "codemirror_mode": {
    "name": "ipython",
    "version": 3
   },
   "file_extension": ".py",
   "mimetype": "text/x-python",
   "name": "python",
   "nbconvert_exporter": "python",
   "pygments_lexer": "ipython3",
   "version": "3.10.12"
  },
  "papermill": {
   "default_parameters": {},
   "duration": 34.147903,
   "end_time": "2024-04-04T06:59:04.090541",
   "environment_variables": {},
   "exception": null,
   "input_path": "__notebook__.ipynb",
   "output_path": "__notebook__.ipynb",
   "parameters": {},
   "start_time": "2024-04-04T06:58:29.942638",
   "version": "2.4.0"
  }
 },
 "nbformat": 4,
 "nbformat_minor": 5
}
